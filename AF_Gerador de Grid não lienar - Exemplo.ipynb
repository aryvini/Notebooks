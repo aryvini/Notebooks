{
 "cells": [
  {
   "cell_type": "markdown",
   "metadata": {},
   "source": [
    "# Gerador grid não linear"
   ]
  },
  {
   "cell_type": "markdown",
   "metadata": {},
   "source": [
    "2021-09-15  \n",
    "Ary Vinicius Nervis Frigeri"
   ]
  },
  {
   "cell_type": "markdown",
   "metadata": {},
   "source": [
    "\n",
    "Respondendo a:  \n",
    "https://www.facebook.com/photo/?fbid=2133633646787446&set=gm.4545111368845542"
   ]
  },
  {
   "cell_type": "code",
   "execution_count": 1,
   "metadata": {},
   "outputs": [],
   "source": [
    "import numpy as np\n",
    "import pandas as pd"
   ]
  },
  {
   "cell_type": "code",
   "execution_count": 67,
   "metadata": {},
   "outputs": [],
   "source": [
    "import matplotlib.pyplot as plt"
   ]
  },
  {
   "cell_type": "markdown",
   "metadata": {},
   "source": [
    "O espaçamento da grid é do tipo:  \n",
    "$s = an + b$  \n",
    "onde $a$ é o incremento;  \n",
    "$b$ é o espaçamento base;  \n",
    "e $n$ é o número de iterações"
   ]
  },
  {
   "cell_type": "code",
   "execution_count": 75,
   "metadata": {},
   "outputs": [],
   "source": [
    "def grid(x0=0,y0=0,xmax=100,ymax=100,dx=0,dy=0,ddx=0,ddy=0):\n",
    "    '''\n",
    "    inputs:\n",
    "    x0,y0: initial x,y coordinates of the grid\n",
    "    xmax,ymax: max coordinates of the grid\n",
    "    dx,dy: default spacing of the grid (non incremental)\n",
    "    ddx,ddy: incremental grid spacing\n",
    "    '''\n",
    "    coordx = []\n",
    "    coordy = []\n",
    "    x=x0\n",
    "    y=y0\n",
    "    i=0\n",
    "    while(x<=xmax):\n",
    "        coordx.append(x)\n",
    "        x+=dx+i*ddx\n",
    "        i+=1\n",
    "        \n",
    "    i=0\n",
    "    while(y<=ymax):\n",
    "        coordy.append(y)\n",
    "        y+=dy+i*ddy\n",
    "        i+=1\n",
    "    \n",
    "    \n",
    "    return np.array(np.meshgrid(coordx,coordy)).T.reshape(-1,2)"
   ]
  },
  {
   "cell_type": "code",
   "execution_count": 81,
   "metadata": {},
   "outputs": [],
   "source": [
    "coords = grid(xmax=90,ymax=21,ddx=0.3,dy=3)"
   ]
  },
  {
   "cell_type": "code",
   "execution_count": 82,
   "metadata": {},
   "outputs": [
    {
     "data": {
      "image/png": "[encoded data removed]",
      "text/plain": [
       "<Figure size 432x288 with 1 Axes>"
      ]
     },
     "metadata": {
      "needs_background": "light"
     },
     "output_type": "display_data"
    }
   ],
   "source": [
    "for coord in coords:\n",
    "    plt.scatter(coord[0],coord[1],color='k')"
   ]
  },
  {
   "cell_type": "code",
   "execution_count": null,
   "metadata": {},
   "outputs": [],
   "source": []
  }
 ],
 "metadata": {
  "kernelspec": {
   "display_name": "Python 3",
   "language": "python",
   "name": "python3"
  },
  "language_info": {
   "codemirror_mode": {
    "name": "ipython",
    "version": 3
   },
   "file_extension": ".py",
   "mimetype": "text/x-python",
   "name": "python",
   "nbconvert_exporter": "python",
   "pygments_lexer": "ipython3",
   "version": "3.7.9"
  }
 },
 "nbformat": 4,
 "nbformat_minor": 4
}
